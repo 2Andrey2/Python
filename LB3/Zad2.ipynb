{
 "cells": [
  {
   "cell_type": "code",
   "execution_count": 2,
   "metadata": {},
   "outputs": [
    {
     "ename": "TypeError",
     "evalue": "'Library' object is not iterable",
     "output_type": "error",
     "traceback": [
      "\u001b[1;31m---------------------------------------------------------------------------\u001b[0m",
      "\u001b[1;31mTypeError\u001b[0m                                 Traceback (most recent call last)",
      "\u001b[1;32m<ipython-input-2-146c56ed8af1>\u001b[0m in \u001b[0;36m<module>\u001b[1;34m\u001b[0m\n\u001b[0;32m     43\u001b[0m \u001b[0mlib\u001b[0m \u001b[1;33m+=\u001b[0m \u001b[0mBook\u001b[0m\u001b[1;33m(\u001b[0m\u001b[1;34m'Сварог летающие острова'\u001b[0m\u001b[1;33m,\u001b[0m \u001b[1;34m'Александрович Бушков'\u001b[0m\u001b[1;33m)\u001b[0m\u001b[1;33m\u001b[0m\u001b[1;33m\u001b[0m\u001b[0m\n\u001b[0;32m     44\u001b[0m \u001b[1;33m\u001b[0m\u001b[0m\n\u001b[1;32m---> 45\u001b[1;33m \u001b[1;32mfor\u001b[0m \u001b[0mbook\u001b[0m \u001b[1;32min\u001b[0m \u001b[0mlib\u001b[0m\u001b[1;33m:\u001b[0m\u001b[1;33m\u001b[0m\u001b[1;33m\u001b[0m\u001b[0m\n\u001b[0m\u001b[0;32m     46\u001b[0m     \u001b[0mprint\u001b[0m\u001b[1;33m(\u001b[0m\u001b[0mbook\u001b[0m\u001b[1;33m)\u001b[0m\u001b[1;33m\u001b[0m\u001b[1;33m\u001b[0m\u001b[0m\n\u001b[0;32m     47\u001b[0m     \u001b[0mprint\u001b[0m\u001b[1;33m(\u001b[0m\u001b[0mbook\u001b[0m\u001b[1;33m.\u001b[0m\u001b[0mtag\u001b[0m\u001b[1;33m(\u001b[0m\u001b[1;33m)\u001b[0m\u001b[1;33m)\u001b[0m\u001b[1;33m\u001b[0m\u001b[1;33m\u001b[0m\u001b[0m\n",
      "\u001b[1;31mTypeError\u001b[0m: 'Library' object is not iterable"
     ]
    }
   ],
   "source": [
    "\n",
    "        \n",
    "class Book() :\n",
    "    key = 1\n",
    "    def __init__(self, name, author) :\n",
    "        self.name = name\n",
    "        self.author = author\n",
    "        self.key = self.__class__.key\n",
    "        self.__class__.key += 1\n",
    "    \n",
    "    def tag(self):\n",
    "        res = self.name.split()\n",
    "        for x in res:\n",
    "            if not x.istitle():\n",
    "                res.remove(x)\n",
    "                return res\n",
    "    \n",
    "    def __str__(self):\n",
    "        aut = self.author.split(' ')\n",
    "        LastName = aut[1]\n",
    "        LastName = str(LastName)\n",
    "        return '[%d] %.1s. %s \"%s\"' % (self.key, self.author, LastName, self.name)\n",
    "        \n",
    "class Library (Book) :\n",
    "    def __init__(self, number, name):\n",
    "        self.number = number\n",
    "        self.name = name\n",
    "        self.book = []\n",
    "        self.itr = -1\n",
    "        \n",
    "    def __iadd__(self, other):\n",
    "        self.book.append(other)\n",
    "        return self\n",
    "    \n",
    "    def __iter__(self):\n",
    "        return self\n",
    "\n",
    "    def __next__(self):\n",
    "        self.itr = self.itr  + 1\n",
    "        if self.itr < len(self.book):\n",
    "            name = self.book[self.itr].name\n",
    "            author = self.book[self.itr].author\n",
    "            key = self.book[self.itr].key\n",
    "            return self.book[self.itr]\n",
    "\n",
    "lib = Library(1, '51 Some str., NY')\n",
    "lib += Book('Крыса из нержавеющей стали', 'Гарри Гаррисон')\n",
    "lib += Book('Сварог летающие острова', 'Александрович Бушков')\n",
    "\n",
    "for book in lib:\n",
    "    print(book)\n",
    "    print(book.tag())\n",
    "    \n",
    "\n"
   ]
  },
  {
   "cell_type": "code",
   "execution_count": null,
   "metadata": {},
   "outputs": [],
   "source": []
  }
 ],
 "metadata": {
  "kernelspec": {
   "display_name": "Python 3",
   "language": "python",
   "name": "python3"
  },
  "language_info": {
   "codemirror_mode": {
    "name": "ipython",
    "version": 3
   },
   "file_extension": ".py",
   "mimetype": "text/x-python",
   "name": "python",
   "nbconvert_exporter": "python",
   "pygments_lexer": "ipython3",
   "version": "3.8.5"
  }
 },
 "nbformat": 4,
 "nbformat_minor": 4
}
