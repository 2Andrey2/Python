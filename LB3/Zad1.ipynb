{
 "cells": [
  {
   "cell_type": "code",
   "execution_count": 3,
   "metadata": {},
   "outputs": [
    {
     "name": "stdout",
     "output_type": "stream",
     "text": [
      "7/2\n",
      "-7/2\n",
      "2/7\n",
      "49/4\n",
      "3.5\n",
      "3\n"
     ]
    }
   ],
   "source": [
    "import pdb;\n",
    "class Fraction(object):\n",
    "    def __init__(self, num, den):\n",
    "        self.__num = num\n",
    "        self.__den = den\n",
    "    def __str__(self):\n",
    "        return \"%d/%d\" % (self.__num, self.__den)\n",
    "    def __neg__(self):\n",
    "        return \"%d/%d\" % (-self.__num, self.__den)\n",
    "    def __invert__(self):\n",
    "        return \"%d/%d\" % (self.__den, self.__num)\n",
    "    def __int__(self):\n",
    "        return int(self.__num / self.__den)\n",
    "    def __float__(self):\n",
    "        return float(self.__num / self.__den)\n",
    "    def __pow__(self,step):\n",
    "        return \"%d/%d\" % (self.__num**step, self.__den**step)\n",
    "\n",
    "#pdb.set_trace()\n",
    "frac = Fraction(7, 2)\n",
    "print(frac)\n",
    "print(-frac) # выводит -7/2\n",
    "print(~frac) # выводит 2/7\n",
    "print(frac**2) # выводит 49/4\n",
    "print(float(frac)) # выводит 3.5\n",
    "print(int(frac)) # выводит 3"
   ]
  },
  {
   "cell_type": "code",
   "execution_count": null,
   "metadata": {},
   "outputs": [],
   "source": []
  }
 ],
 "metadata": {
  "kernelspec": {
   "display_name": "Python 3",
   "language": "python",
   "name": "python3"
  },
  "language_info": {
   "codemirror_mode": {
    "name": "ipython",
    "version": 3
   },
   "file_extension": ".py",
   "mimetype": "text/x-python",
   "name": "python",
   "nbconvert_exporter": "python",
   "pygments_lexer": "ipython3",
   "version": "3.8.5"
  }
 },
 "nbformat": 4,
 "nbformat_minor": 4
}
