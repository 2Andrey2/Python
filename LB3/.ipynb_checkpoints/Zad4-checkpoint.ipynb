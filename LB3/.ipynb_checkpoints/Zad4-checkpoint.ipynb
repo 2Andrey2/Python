{
 "cells": [
  {
   "cell_type": "code",
   "execution_count": 8,
   "metadata": {},
   "outputs": [
    {
     "name": "stdout",
     "output_type": "stream",
     "text": [
      "Пример исчезновения слова\n",
      "Пример с цыфрами *****\n",
      "П р и м е р   с   п р о б е л а м и\n",
      "с слов Пример разных размером\n",
      "значению лексикографическому по Пример слов сортировки\n"
     ]
    }
   ],
   "source": [
    "class StringFormatter:\n",
    "    \n",
    "    def deleting_words(self, string, n):\n",
    "        wordslist = string.split(' ')\n",
    "        for i in wordslist:\n",
    "            if len(i) < n:\n",
    "                wordslist.remove(i)\n",
    "        return ' '.join(wordslist)\n",
    "\n",
    "    def delete_digits(self, string):\n",
    "        temp = string.translate(str.maketrans('0123456789', '**********'))\n",
    "        return temp\n",
    "    def gaps(self, string):\n",
    "        return ' '.join(list(string))\n",
    "\n",
    "    def word_size(self, string):\n",
    "        def SBL(str):\n",
    "            return len(str)\n",
    "        temp = string.split(' ')\n",
    "        temp.sort(key=SBL)\n",
    "        return ' '.join(temp)\n",
    "\n",
    "    def vocabulary(self, string):\n",
    "        rezlist = string.split(' ')\n",
    "        rezlist = sorted(rezlist, key=lambda x:(str.lower(x),x))\n",
    "        return ' '.join(rezlist)\n",
    "\n",
    "rez = StringFormatter()\n",
    "\n",
    "print(rez.deleting_words('Пример исчезновения слова',4))\n",
    "print(rez.delete_digits('Пример с цыфрами 12345'))\n",
    "print(rez.gaps('Пример с пробелами'))\n",
    "print(rez.word_size('Пример с размером разных слов'))\n",
    "print(rez.vocabulary('Пример сортировки слов по лексикографическому значению'))\n"
   ]
  },
  {
   "cell_type": "code",
   "execution_count": null,
   "metadata": {},
   "outputs": [],
   "source": []
  }
 ],
 "metadata": {
  "kernelspec": {
   "display_name": "Python 3",
   "language": "python",
   "name": "python3"
  },
  "language_info": {
   "codemirror_mode": {
    "name": "ipython",
    "version": 3
   },
   "file_extension": ".py",
   "mimetype": "text/x-python",
   "name": "python",
   "nbconvert_exporter": "python",
   "pygments_lexer": "ipython3",
   "version": "3.8.5"
  }
 },
 "nbformat": 4,
 "nbformat_minor": 4
}
