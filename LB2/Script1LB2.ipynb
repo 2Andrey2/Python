{
 "cells": [
  {
   "cell_type": "code",
   "execution_count": 47,
   "metadata": {
    "scrolled": true
   },
   "outputs": [
    {
     "name": "stderr",
     "output_type": "stream",
     "text": [
      "usage: ipykernel_launcher.py [-h] [-so SOURCE] [-d DAYS] [-s SIZE]\n",
      "ipykernel_launcher.py: error: unrecognized arguments: -f C:\\Users\\Andrey\\AppData\\Roaming\\jupyter\\runtime\\kernel-0fa03e45-ad6c-4177-a963-f8676544404f.json\n"
     ]
    },
    {
     "ename": "SystemExit",
     "evalue": "2",
     "output_type": "error",
     "traceback": [
      "An exception has occurred, use %tb to see the full traceback.\n",
      "\u001b[1;31mSystemExit\u001b[0m\u001b[1;31m:\u001b[0m 2\n"
     ]
    }
   ],
   "source": [
    "import sys\n",
    "import argparse\n",
    "import os\n",
    "import datetime\n",
    "import shutil\n",
    " \n",
    "def createParser ():\n",
    "    parser = argparse.ArgumentParser()\n",
    "    parser.add_argument ('-so', '--source', default=r'C:\\Users\\Andrey\\Desktop\\Учеба\\питон\\LB2\\Script1LB2')\n",
    "    parser.add_argument ('-d', '--days', default=1)\n",
    "    parser.add_argument ('-s', '--size', type=int, default=100)\n",
    "    return parser\n",
    "\n",
    "parser = createParser()\n",
    "namespace = parser.parse_args(sys.argv[1:])\n",
    "#print(namespace)\n",
    "#print(dir(namespace))\n",
    "#print(namespace.size)\n",
    "#print(namespace.source)\n",
    "\n",
    "os.chdir(namespace.source)\n",
    "dir1 = os.listdir()\n",
    "for temp in dir1:\n",
    "    t = os.path.getmtime(temp)\n",
    "    t = datetime.datetime.fromtimestamp(t)\n",
    "    if os.stat(temp).st_size < namespace.size:\n",
    "        print('++++++++++')\n",
    "        \n",
    "        if os.path.isdir(namespace.source+'\\Small') == False:\n",
    "            os.mkdir('Small')\n",
    "            print('!!!!!!!!!!!!')\n",
    "        shutil.move(temp,namespace.source+r'\\Small')\n",
    "    if (t - datetime.datetime.now()).days > namespace.days:\n",
    "        print('----------')\n",
    "        if os.path.isdir(namespace.source+'\\Archive') == False:\n",
    "            os.mkdir('Archive')\n",
    "            print('----------')\n",
    "        shutil.move(shutil.move(temp,namespace.source+r'\\Archive')"
   ]
  },
  {
   "cell_type": "code",
   "execution_count": 45,
   "metadata": {},
   "outputs": [
    {
     "name": "stdout",
     "output_type": "stream",
     "text": [
      "C:\\Users\\Andrey\\Desktop\\Учеба\\питон\\LB2\\Script1LB2\\Small\n",
      "!!!!!!!!!!!!\n"
     ]
    }
   ],
   "source": [
    "#import datetime\n",
    "#import os\n",
    "#pyth=r'C:\\Users\\Andrey\\Desktop\\Учеба\\питон\\LB2\\Script1LB2'\n",
    "#os.chdir(pyth)\n",
    "#print(pyth+'\\Small')\n",
    "#if os.path.isdir(pyth+'\\Small') == False:\n",
    "#    os.mkdir('Small')\n",
    "#    print('!!!!!!!!!!!!')\n",
    "#t = os.path.getmtime(r'C:\\Users\\Andrey\\Desktop\\Учеба\\питон\\LB2\\Script1LB2\\temp1.docx')\n",
    "#t = datetime.datetime.fromtimestamp(t)\n",
    "#t = t - datetime.datetime.now()\n",
    "#print(type(t))\n",
    "#print(dir(t))\n",
    "#print(t.days)\n",
    "#print(os.path.isdir(r'C:\\Users\\Andrey\\Desktop\\Учеба\\питон\\LB2\\Script1LB2\\Small'))"
   ]
  },
  {
   "cell_type": "code",
   "execution_count": null,
   "metadata": {},
   "outputs": [],
   "source": []
  }
 ],
 "metadata": {
  "kernelspec": {
   "display_name": "Python 3",
   "language": "python",
   "name": "python3"
  },
  "language_info": {
   "codemirror_mode": {
    "name": "ipython",
    "version": 3
   },
   "file_extension": ".py",
   "mimetype": "text/x-python",
   "name": "python",
   "nbconvert_exporter": "python",
   "pygments_lexer": "ipython3",
   "version": "3.8.5"
  }
 },
 "nbformat": 4,
 "nbformat_minor": 4
}
