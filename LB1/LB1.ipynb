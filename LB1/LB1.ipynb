{
 "cells": [
  {
   "cell_type": "code",
   "execution_count": 52,
   "metadata": {},
   "outputs": [
    {
     "name": "stdout",
     "output_type": "stream",
     "text": [
      "15.20\n",
      "$ Рублей 15, копеек 20\n"
     ]
    }
   ],
   "source": [
    "import pdb;\n",
    "import math;\n",
    "def zad1 ():\n",
    "    x = input()\n",
    "    try:\n",
    "        rez1 = int(float(x) // 1)\n",
    "        #set_trace()\n",
    "        rez2 = int((float(x) % 1) * 100)+1\n",
    "    except:\n",
    "        rez = \"Некорректный формат!\";\n",
    "        return rez\n",
    "    rez = \"$ Рублей {rub}, копеек {cop}\".format(rub = rez1,cop = rez2)\n",
    "    return rez\n",
    "\n",
    "print (zad1())"
   ]
  },
  {
   "cell_type": "code",
   "execution_count": 17,
   "metadata": {},
   "outputs": [
    {
     "name": "stdout",
     "output_type": "stream",
     "text": [
      "5\n",
      "6\n",
      "7\n",
      "8\n",
      "9\n",
      "true\n"
     ]
    }
   ],
   "source": [
    "import pdb;\n",
    "import math;\n",
    "def zad2 ():\n",
    "    mass = []\n",
    "    for i in range(0,5):\n",
    "        mass.append(input())\n",
    "    temp = int(mass[0]) - 1\n",
    "    for j in mass:\n",
    "        rez = int(j) - int(temp)\n",
    "        if 1 != rez:\n",
    "            return 0\n",
    "        temp = j\n",
    "    return 1\n",
    "    print(mass)\n",
    "rez = zad2()\n",
    "if rez == 0:\n",
    "   print('false') \n",
    "if rez == 1:\n",
    "   print('true') "
   ]
  },
  {
   "cell_type": "code",
   "execution_count": 20,
   "metadata": {},
   "outputs": [
    {
     "name": "stdout",
     "output_type": "stream",
     "text": [
      "1\n",
      "2\n",
      "3\n",
      "4\n",
      "5\n",
      "6\n",
      "7\n",
      "8\n",
      "9\n",
      "10\n",
      "11\n",
      "12\n",
      "13\n",
      "14\n",
      "15\n",
      "16\n",
      "['1', '2', '3', '4', '*', '*', '*', '*', '*', '*', '*', '*', '13', '14', '15', '16']\n",
      "Enter: 1234567891234567\n",
      "1234 **** **** 4567\n"
     ]
    }
   ],
   "source": [
    "import pdb;\n",
    "def zad3 ():\n",
    "    mass = []\n",
    "    for i in range(0,16):\n",
    "        mass.append(input())\n",
    "    for i in mass:\n",
    "        if 12 > mass.index(i) > 3:\n",
    "            #pdb.set_trace()\n",
    "            mass[mass.index(i)] = \"*\"\n",
    "    return mass\n",
    "print(zad3())\n",
    "input_value = input(\"Enter: \")\n",
    "if len(input_value) != 16:\n",
    "     raise ValueError(f\"Error lenght {len(input_value)}\")\n",
    "\n",
    "print(\"{f} {x} {x} {l}\".format(f = input_value[:4], x = \"*\" * 4, l = input_value[-4:]))"
   ]
  },
  {
   "cell_type": "code",
   "execution_count": 12,
   "metadata": {},
   "outputs": [
    {
     "name": "stdout",
     "output_type": "stream",
     "text": [
      "В лесу родилась елочка в лесу она росла зимой и летом сторойная зеленая была\n",
      "['родилась', 'сторойная', 'елочка', 'росла', 'зимой', 'летом', 'В', 'в', 'она', 'и']\n",
      "В лесу родилась елочка в лесу она росла зимой и летом сторойная зеленая была\n",
      "сторойная родилась зеленая елочка летом зимой росла была лесу лесу она и в В\n"
     ]
    }
   ],
   "source": [
    "import pdb;\n",
    "def zad4_1 ():\n",
    "    mass = input()\n",
    "    rez1 = []\n",
    "    temp = \"\"\n",
    "    for i in mass:\n",
    "        if i == \" \":\n",
    "            rez1.append(temp)\n",
    "            temp = \"\"\n",
    "        else:\n",
    "            temp = temp + i\n",
    "    rez2 = []\n",
    "    for i in rez1:\n",
    "        if len(i) > 7:\n",
    "            rez2.append(i)\n",
    "    for i in rez1:\n",
    "        if 4 < len(i) < 7:\n",
    "            rez2.append(i)\n",
    "    for i in rez1:\n",
    "        if len(i) < 4:\n",
    "            rez2.append(i)\n",
    "    return rez2\n",
    "print(zad4_1())\n",
    "input_str = input()\n",
    "result = sorted(input_str.split(' '), key = len)\n",
    "result.reverse()\n",
    "print(str.join(' ', result))"
   ]
  },
  {
   "cell_type": "code",
   "execution_count": 5,
   "metadata": {},
   "outputs": [
    {
     "name": "stdout",
     "output_type": "stream",
     "text": [
      "Андрей дима Миша Даня вадик юля\n",
      " А Н Д Р Е Й   д и м а   М И Ш А   Д А Н Я   в а д и к   ю л я\n"
     ]
    }
   ],
   "source": [
    "import pdb;\n",
    "def zad5 ():\n",
    "    mass = input()\n",
    "    rez = []\n",
    "    flag = 0\n",
    "    for i in mass:\n",
    "        if flag == 1:\n",
    "            #pdb.set_trace()\n",
    "            i = i.upper()\n",
    "        if i.isupper():\n",
    "            #pdb.set_trace()\n",
    "            flag = 1\n",
    "        if i == \" \" or i == \",\":\n",
    "            flag = 0\n",
    "        rez.append(i)\n",
    "    mass = \"\"\n",
    "    for i in rez:\n",
    "        mass += ' ' + ' '.join(i)\n",
    "    return mass\n",
    "print(zad5())"
   ]
  },
  {
   "cell_type": "code",
   "execution_count": 21,
   "metadata": {},
   "outputs": [
    {
     "name": "stdout",
     "output_type": "stream",
     "text": [
      "Anddrreyy Diimaa\n",
      "['A', 'n', 'd', 'r', 'e', 'y', ' ', 'D', 'i', 'm', 'a']\n"
     ]
    }
   ],
   "source": [
    "import pdb;\n",
    "def zad6 ():\n",
    "    mass = input()\n",
    "    rez = [mass[0]]\n",
    "    flag = 0\n",
    "    for i in mass:\n",
    "        #pdb.set_trace()\n",
    "        for j in rez:\n",
    "            if i == j:\n",
    "                flag = 1\n",
    "        if flag == 0:\n",
    "                rez.append(i)\n",
    "        flag = 0\n",
    "    return rez\n",
    "print(zad6())"
   ]
  },
  {
   "cell_type": "code",
   "execution_count": null,
   "metadata": {},
   "outputs": [],
   "source": [
    "import pdb;\n",
    "from random import choice\n",
    "from string import ascii_letters\n",
    "def zad7 ():\n",
    "    #mass = ''.join(choice(ascii_letters) for i in range(12))\n",
    "    mass = input()\n",
    "    flag = 0\n",
    "    if -1 != mass.find('www', 0,len(mass)) < 4:\n",
    "        rez = \"https://\" + mass\n",
    "    else:\n",
    "        rez = mass\n",
    "    if -1 != mass.find('.com', 0,len(mass)) and mass.find('.com', 0,len(mass)) > len(mass) - 5:\n",
    "        rez = rez\n",
    "    else:\n",
    "        rez = rez + \".com\"\n",
    "    return rez\n",
    "print(zad7())"
   ]
  },
  {
   "cell_type": "code",
   "execution_count": 6,
   "metadata": {},
   "outputs": [
    {
     "name": "stdout",
     "output_type": "stream",
     "text": [
      "n is 66, the closest power of 2 (upper bound) is 128\n",
      "[41, 97, 88, 13, 13, 75, 11, 93, 47, 62, 3, 99, 22, 64, 17, 100, 40, 91, 1, 32, 58, 2, 51, 57, 48, 68, 32, 5, 10, 94, 77, 48, 4, 23, 95, 85, 62, 11, 41, 90, 18, 77, 65, 40, 17, 96, 56, 57, 43, 26, 33, 11, 22, 14, 7, 10, 98, 56, 14, 72, 15, 63, 78, 9, 51, 55, 0, 0, 0, 0, 0, 0, 0, 0, 0, 0, 0, 0, 0, 0, 0, 0, 0, 0, 0, 0, 0, 0, 0, 0, 0, 0, 0, 0, 0, 0, 0, 0, 0, 0, 0, 0, 0, 0, 0, 0, 0, 0, 0, 0, 0, 0, 0, 0, 0, 0, 0, 0, 0, 0, 0, 0, 0, 0, 0, 0, 0, 0]\n"
     ]
    }
   ],
   "source": [
    "#zad_8\n",
    "import math\n",
    "import random\n",
    "\n",
    "MIN = 0\n",
    "MAX = 100\n",
    "\n",
    "n = random.randint(MIN, MAX)\n",
    "closest_power_of_two = int(math.pow(2, math.ceil(math.log(n, 2)))) if n!=0 else int(math.pow(2, 0))\n",
    "\n",
    "integers = list()\n",
    "print(f\"n is {n}, the closest power of 2 (upper bound) is {closest_power_of_two}\")\n",
    "for i in range(closest_power_of_two):\n",
    "    integers.append(random.randint(MIN, MAX) if  i<n else 0)\n",
    "\n",
    "print(integers)"
   ]
  },
  {
   "cell_type": "code",
   "execution_count": 27,
   "metadata": {},
   "outputs": [
    {
     "name": "stdout",
     "output_type": "stream",
     "text": [
      "22350\n",
      "5000 * 4 + 1000 * 2 + 100 * 3 + 50 * 1\n"
     ]
    }
   ],
   "source": [
    "def zad9():\n",
    "    money = dict()\n",
    "    money['5000'] = 5\n",
    "    money['1000'] = 6\n",
    "    money['500'] = 15\n",
    "    money['100'] = 50\n",
    "    money['50'] = 60\n",
    "    sizemon = dict()\n",
    "    sizemon['5000'] = 0\n",
    "    sizemon['1000'] = 0\n",
    "    sizemon['500'] = 0\n",
    "    sizemon['100'] = 0\n",
    "    sizemon['50'] = 0\n",
    "    mass = input()\n",
    "    temp = int(mass)\n",
    "    flag = 0\n",
    "    rez = \"\"\n",
    "    size = 1\n",
    "    while temp != 0:\n",
    "        if temp > 5000 and money['5000'] != 0 and flag == 0:\n",
    "            sizemon['5000'] = sizemon['5000'] + 1\n",
    "            temp = temp - 5000\n",
    "            money['5000'] = money['5000'] - 1\n",
    "            flag = 1\n",
    "        if temp > 1000 and money['1000'] != 0 and flag == 0:\n",
    "            sizemon['1000'] = sizemon['1000'] + 1\n",
    "            temp = temp - 1000\n",
    "            money['1000'] = money['1000'] - 1\n",
    "            flag = 1\n",
    "        if temp > 500 and money['500'] != 0 and flag == 0:\n",
    "            sizemon['500'] = sizemon['500'] + 1\n",
    "            temp = temp - 500\n",
    "            money['500'] = money['500'] - 1\n",
    "            flag = 1\n",
    "        if temp > 100 and money['100'] != 0 and flag == 0:\n",
    "            sizemon['100'] = sizemon['100'] + 1\n",
    "            temp = temp - 100\n",
    "            money['100'] = money['100'] - 1\n",
    "            flag = 1\n",
    "        if temp >= 50 and money['50'] != 0 and flag == 0:\n",
    "            sizemon['50'] = sizemon['50'] + 1\n",
    "            temp = temp - 50\n",
    "            money['50'] = money['50'] - 1\n",
    "            flag = 1\n",
    "        if money['5000'] == 0 and money['1000'] == 0 and money['500'] == 0 and money['100'] == 0 and money['50'] == 0:\n",
    "            rez = \"Операция невозможна! Денег нет -_-\"\n",
    "            return rez\n",
    "        flag = 0\n",
    "        #print(temp)\n",
    "    #pdb.set_trace()\n",
    "    if sizemon['5000'] != 0:\n",
    "        rez = rez + \"5000 * \" + str(sizemon['5000']) + \" + \"\n",
    "    if sizemon['1000'] != 0:\n",
    "        rez = rez + \"1000 * \" + str(sizemon['1000']) + \" + \"\n",
    "    if sizemon['500'] != 0:\n",
    "        rez = rez + \"500 * \" + str(sizemon['500']) + \" + \"\n",
    "    if sizemon['100'] != 0:\n",
    "        rez = rez + \"100 * \" + str(sizemon['100']) + \" + \"\n",
    "    if sizemon['50'] != 0:\n",
    "        rez = rez + \"50 * \" + str(sizemon['50'])\n",
    "    return rez\n",
    "\n",
    "print(zad9())"
   ]
  },
  {
   "cell_type": "code",
   "execution_count": 35,
   "metadata": {},
   "outputs": [
    {
     "name": "stdout",
     "output_type": "stream",
     "text": [
      "andrey\n",
      "Пароль меньше 6 символов\n",
      "Пароль состоит только из букв\n",
      "Пароль состоит только из букв нижнего регистра\n",
      "Надежность 2 из 5\n"
     ]
    }
   ],
   "source": [
    "import pdb;\n",
    "def zad10():\n",
    "    reliability = 5\n",
    "    mass = input()\n",
    "    if (len(mass) < 8):\n",
    "        reliability = reliability - 1\n",
    "        print('Пароль меньше 6 символов')\n",
    "    if (mass.isdigit() == 1):\n",
    "        reliability = reliability - 1\n",
    "        print('Пароль состоит только из цифр')\n",
    "    if (mass.isalpha() == 1):\n",
    "        reliability = reliability - 1\n",
    "        print('Пароль состоит только из букв')\n",
    "    flag = 0;\n",
    "    #pdb.set_trace()\n",
    "    for i in mass:\n",
    "        if i.islower():\n",
    "            flag = flag + 1\n",
    "    if (flag == len(mass)):\n",
    "        reliability = reliability - 1\n",
    "        print('Пароль состоит только из букв нижнего регистра')\n",
    "    flag = 0;\n",
    "    for i in mass:\n",
    "        if i.isupper():\n",
    "            flag = flag + 1\n",
    "    if (flag == len(mass)):\n",
    "        reliability = reliability - 1\n",
    "        print('Пароль состоит только из букв верхнего регистра')\n",
    "            \n",
    "    return reliability\n",
    "\n",
    "rez = zad10()\n",
    "text = 'Надежность {chif} из 5'.format(chif = rez)\n",
    "print(text)"
   ]
  },
  {
   "cell_type": "code",
   "execution_count": 4,
   "metadata": {},
   "outputs": [
    {
     "name": "stdout",
     "output_type": "stream",
     "text": [
      "1.1\n",
      "1.2\n",
      "1.3\n",
      "1.4\n",
      "1.5\n",
      "1.6\n",
      "1.7\n",
      "1.8\n",
      "1.9\n",
      "2.0\n",
      "2.1\n",
      "2.2\n",
      "2.3\n",
      "2.4\n",
      "2.5\n",
      "2.6\n",
      "2.7\n",
      "2.8\n",
      "2.9\n",
      "3.0\n",
      "3.1\n",
      "3.2\n",
      "3.3\n",
      "3.4\n",
      "3.5\n",
      "3.6\n",
      "3.7\n",
      "3.8\n",
      "3.9\n",
      "4.0\n",
      "4.1\n",
      "4.2\n",
      "4.3\n",
      "4.4\n",
      "4.5\n",
      "4.6\n",
      "4.7\n",
      "4.8\n",
      "4.9\n",
      "5.0\n"
     ]
    }
   ],
   "source": [
    "def frand_zad11(begin, end, n):\n",
    "    while begin < end and begin + n < end:\n",
    "        begin += n\n",
    "        yield round(begin, 14)\n",
    "\n",
    "for i in frand_zad11(1, 5, 0.1):\n",
    "    print(i)"
   ]
  },
  {
   "cell_type": "code",
   "execution_count": 7,
   "metadata": {},
   "outputs": [
    {
     "name": "stdout",
     "output_type": "stream",
     "text": [
      "156954785632654789654\n",
      "1\n",
      "5\n",
      "6\n",
      "9\n",
      "5\n",
      "4\n",
      "7\n",
      "8\n",
      "5\n",
      "6\n",
      "3\n",
      "2\n",
      "6\n",
      "5\n",
      "4\n",
      "7\n",
      "8\n",
      "9\n",
      "6\n",
      "5\n",
      "4\n"
     ]
    }
   ],
   "source": [
    "def zad_12(signal, size, overlap):\n",
    "    output = list()\n",
    "\n",
    "    if 0 > overlap >= 1: \n",
    "        raise ValueError(\"Overlap cant be > 1 or < 0 i think\")\n",
    "\n",
    "    sig_len = len(signal)\n",
    "\n",
    "    if sig_len<=size: \n",
    "        return signal\n",
    "\n",
    "    overlapping_size = overlap * size\n",
    "\n",
    "    n_of_elems = int((sig_len / overlapping_size) - 1)\n",
    "\n",
    "    for i in range(n_of_elems):\n",
    "        if i == 0:\n",
    "            output.append(signal[0:size+1])\n",
    "        else:\n",
    "            output.append(signal[(size - overlapping_size) * i:(size + overlapping_size) * i+1])\n",
    "    return output\n",
    "\n",
    "signal = input()\n",
    "for frame in zad_12(signal, size = 1024, overlap = 0.5):\n",
    "    print(frame)"
   ]
  },
  {
   "cell_type": "code",
   "execution_count": 8,
   "metadata": {},
   "outputs": [
    {
     "name": "stdout",
     "output_type": "stream",
     "text": [
      "[1, 0]\n",
      "[1, 0, 1]\n",
      "[1, 0, 1, 0, 0]\n",
      "[1, 0, 1, 0, 0]\n"
     ]
    }
   ],
   "source": [
    "def zad_13(signal, size, overlap):\n",
    "    if 0 > overlap >= 1:\n",
    "         raise ValueError(\"Overlap cant be > 1 or < 0 i think\")\n",
    "\n",
    "    sig_len = len(signal)\n",
    "    if sig_len <= size:\n",
    "        return signal\n",
    "        \n",
    "    overlapping_size = overlap * size\n",
    "    n_of_elems = int((sig_len / overlapping_size) - 1)\n",
    "    for i in range(n_of_elems):\n",
    "        if i == 0:\n",
    "            yield signal[0:size + 1]\n",
    "        else:\n",
    "            yield signal[(size-overlapping_size)*i:(size+overlapping_size)*i+1]\n",
    "\n",
    "\n",
    "for item in zad_13([1, 0, 1, 0, 0], 1, 1):\n",
    "    print(item)"
   ]
  },
  {
   "cell_type": "code",
   "execution_count": 9,
   "metadata": {},
   "outputs": [
    {
     "name": "stdout",
     "output_type": "stream",
     "text": [
      " ANdrey  ,Dima,  Gala   ,   , For,,Garet.\n",
      "Вырезано пустое значение\n",
      "Вырезано пустое значение\n",
      "ANdrey.Dima.Gala.For.Garet.\n"
     ]
    }
   ],
   "source": [
    "import pdb;\n",
    "\n",
    "def zad14_non_empty(text):\n",
    "    it = 0\n",
    "    rez = \"\"\n",
    "    temp = \"\"\n",
    "    for i in text:\n",
    "        if (i == \",\" or i == \".\"):\n",
    "            #pdb.set_trace()\n",
    "            temp = temp.strip()\n",
    "            if (len(temp) == 0):\n",
    "                print(\"Вырезано пустое значение\")\n",
    "            else:\n",
    "                rez = rez + temp + \".\"\n",
    "                temp = \"\"\n",
    "        #pdb.set_trace()\n",
    "        else:\n",
    "            temp = temp + i\n",
    "    return rez\n",
    "\n",
    "text = input()\n",
    "print(zad14_non_empty(text))\n"
   ]
  },
  {
   "cell_type": "code",
   "execution_count": 9,
   "metadata": {},
   "outputs": [
    {
     "name": "stdout",
     "output_type": "stream",
     "text": [
      "[-3.07, 4.93, -2.1399999999999997, 5.859999999999999]\n"
     ]
    }
   ],
   "source": [
    "#zad15\n",
    "def pre_process(a):\n",
    "    def my_decorator(func):\n",
    "        def wrapper(s):\n",
    "            for i in range(len(s)):\n",
    "                s[i] =  s[i] * a - s[(i - 1)]\n",
    "            return func(s)\n",
    "        return wrapper\n",
    "    return my_decorator\n",
    "\n",
    "@pre_process(a = 0.93)\n",
    "def plot_process(s):\n",
    "    print([i for i in s])\n",
    "\n",
    "plot_process([1, 2, 3, 4])\n",
    "            "
   ]
  },
  {
   "cell_type": "code",
   "execution_count": 5,
   "metadata": {},
   "outputs": [
    {
     "name": "stdout",
     "output_type": "stream",
     "text": [
      "[['4', '1', '13', '5'], ['16', '3', '11', '10'], ['9', '14', '7', '6'], ['15', '8', '2', '12']]\n"
     ]
    }
   ],
   "source": [
    "#Andrey,Dima,Onli,For,Garet,Loin,Misha,Roma,Joi,Sem,Ivan,Iloi,Volodi,Lochman,Lir,Tekmua\n",
    "import random;\n",
    "import pdb;\n",
    "import datetime;\n",
    "def zad_16_1(Comand):\n",
    "    Comand1 = []\n",
    "    Comand2 = []\n",
    "    Comand3 = []\n",
    "    Comand4 = []\n",
    "    flag = 0\n",
    "    for i in range(0,16):\n",
    "        size = random.randint(0, 15)\n",
    "        if (len(Comand1) != 4 and flag == 0):\n",
    "            Comand1.append(Comand[size])\n",
    "            flag = 1\n",
    "        if (len(Comand2) != 4 and flag == 0):\n",
    "            Comand2.append(Comand[size])\n",
    "            flag = 1\n",
    "        if (len(Comand3) != 4 and flag == 0):\n",
    "            Comand3.append(Comand[size])\n",
    "            flag = 1\n",
    "        if (len(Comand4) != 4 and flag == 0):\n",
    "            Comand4.append(Comand[size])\n",
    "            flag = 1\n",
    "        flag = 0\n",
    "    return Comand1,Comand2,Comand3,Comand4\n",
    "\n",
    "def zad_16_2():\n",
    "    #\"14.09.2021\"\n",
    "    startday = 14\n",
    "    startmath = 9\n",
    "    starteyar = 2021\n",
    "    for i in range(0,5):\n",
    "        for j in range(0,12):\n",
    "            for z in range(0,30):\n",
    "                if (z == 14 or z == 28):\n",
    "                    print(str(z) + \"/\" + str(j) + \"/202\" + str(i))\n",
    "    \n",
    "\n",
    "text = ['Andrey','Dima','Onli','For','Garet','Loin','Misha','Roma','Joi','Sem','Ivan','Iloi','Volodi','Lochman','Lir','Tekmua']\n",
    "print(zad_16_1(text))\n",
    "print(zad_16_2())\n",
    "                \n",
    "    "
   ]
  },
  {
   "cell_type": "code",
   "execution_count": null,
   "metadata": {},
   "outputs": [],
   "source": [
    "        while flag == 1:\n",
    "                    flag = 0\n",
    "                    size = random.randint(0, now.year)\n",
    "                    for it in range(0,16):\n",
    "                        if size == it:\n",
    "                            pdb.set_trace()\n",
    "                            while flag == 0:\n",
    "                                flag = 0\n",
    "                                for j in temp:\n",
    "                                    if j == size:\n",
    "                                        flag = 1\n",
    "                        else:\n",
    "                            flag = 1\n",
    "        temp.append(size)\n",
    "        pdb.set_trace()"
   ]
  },
  {
   "cell_type": "code",
   "execution_count": 6,
   "metadata": {},
   "outputs": [
    {
     "name": "stdout",
     "output_type": "stream",
     "text": [
      "[['5', '12', '16', '10'], ['2', '1', '8', '4'], ['7', '11', '9', '14'], ['6', '3', '15', '13']]\n"
     ]
    }
   ],
   "source": [
    "import random\n",
    "from datetime import datetime, date, time\n",
    "\n",
    "startDate = date(date.today().year, 9, 14)\n",
    "\n",
    "def get_teams(teams, n_of_lists = 4):\n",
    "    n = len(teams)-1\n",
    "   \n",
    "    return_teams = [[],[],[],[]]\n",
    "    for i in range(n+1):\n",
    "        m = random.randint(0,n-i)\n",
    "        return_teams[i%n_of_lists].append(teams[m])\n",
    "        del teams[m]\n",
    "    return return_teams\n",
    "\n",
    "te = [\"1\", \"2\", \"3\", \"4\", \"5\", \"6\", \"7\", \"8\", \"9\", \"10\", \"11\", \"12\", \"13\", \"14\", \"15\", \"16\"]\n",
    "print(get_teams(te))"
   ]
  },
  {
   "cell_type": "code",
   "execution_count": null,
   "metadata": {},
   "outputs": [],
   "source": []
  }
 ],
 "metadata": {
  "kernelspec": {
   "display_name": "Python 3",
   "language": "python",
   "name": "python3"
  },
  "language_info": {
   "codemirror_mode": {
    "name": "ipython",
    "version": 3
   },
   "file_extension": ".py",
   "mimetype": "text/x-python",
   "name": "python",
   "nbconvert_exporter": "python",
   "pygments_lexer": "ipython3",
   "version": "3.8.5"
  }
 },
 "nbformat": 4,
 "nbformat_minor": 4
}
